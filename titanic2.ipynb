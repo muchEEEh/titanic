{
 "cells": [
  {
   "cell_type": "markdown",
   "metadata": {},
   "source": [
    "# Czyszczenie danych i przygotowanie zbioru do analizy\n",
    "Zadaniem do wykonania w tym projekcie jest oczyszczenie, a także usunięcie problemów w dostarczonym zbiorze TitatnicMess.tsv. \n",
    "Dane należy uporządkować, a także opisać napotkane problemy"
   ]
  },
  {
   "cell_type": "markdown",
   "metadata": {},
   "source": [
    "Pierwszym krokiem w pracy przy zbiorze danych jest import potrzebnych bibliotek, które będą wykorzystywane podczas czyszczenia zbioru."
   ]
  },
  {
   "cell_type": "code",
   "execution_count": 234,
   "metadata": {},
   "outputs": [
    
   ],
   "source": [
    "import locale\n",
    "import pandas as pd\n",
    "import math\n",
    "from sklearn.metrics import accuracy_score\n",
    "from sklearn.linear_model import LogisticRegression\n",
    "from sklearn.model_selection import train_test_split\n",
    "locale.setlocale( locale.LC_ALL, 'en_US.UTF-8' )"
   ]
  },
  {
   "cell_type": "markdown",
   "metadata": {},
   "source": [
    "Kolejnym krokiem jest wczytanie podanego zbioru danych TitanicMess.tsv z odpowiednim separatorem oraz kolumną indeksującą."
   ]
  },
  {
   "cell_type": "code",
   "execution_count": 235,
   "metadata": {},
   "outputs": [
    
   ],
   "source": [
    "titanic = pd.read_csv('TitanicMess.tsv', sep='\\t', index_col='PassengerId') \n",
    "titanic.head()"
   ]
  },
  {
   "cell_type": "markdown",
   "metadata": {},
   "source": [
    "Po wstępnej analizie wczytanych danych można dojść do wniosku, iż kolumna **Ship** posiada tylko jedną wartość, którą jest 'Titanic'. Wydaje się, że ta kolumna nie będzie potrzebna w dalszej analizie, ponieważ analizujemy dane tylko i wyłącznie ze statku Titanic. Najrozsądniejszym wyborem będzie usunięcie tej kolumny ze zbioru."
   ]
  },
  {
   "cell_type": "code",
   "execution_count": 238,
   "metadata": {},
   "outputs": [
    
   ],
   "source": [
    "clear = titanic.drop(columns='ship')\n",
    "clear.head()"
   ]
  },
  {
   "cell_type": "markdown",
   "metadata": {},
   "source": [
    "W kolumnie **Sex** występuje sporo błędów, które potocznie można określić jako literówki. Aby uporządkować dane w tej kolumnie należy najpierw odczytać wszystkie unikalne wartości, które znajdują się tej tabeli. "
   ]
  },
  {
   "cell_type": "code",
   "execution_count": 219,
   "metadata": {},
   "outputs": [
    
   ],
   "source": [
    "types = clear['Sex'].unique() \n",
    "print(types)"
   ]
  },
  {
   "cell_type": "markdown",
   "metadata": {},
   "source": [
    "Zauważyć można, iż rzeczywiście występują tak zwane literówki. Można łatwo dostrzec, które z podanych wartości powinny mieć wartość 'male', a które 'female' i zmienić je na te poprawne."
   ]
  },
  {
   "cell_type": "code",
   "execution_count": 219,
   "metadata": {},
   "outputs": [
    
   ],
   "source": [
    "clear['Sex'] = clear['Sex'].replace(['femmale'],'female') \n",
    "clear['Sex'] = clear['Sex'].replace(['fem'],'female') \n",
    "clear['Sex'] = clear['Sex'].replace(['mal'],'male') \n",
    "clear['Sex'] = clear['Sex'].replace(['malef'],'male') \n",
    "types = clear['Sex'].unique() \n",
    "print(types)"
   ]
  },
  {
   "cell_type": "markdown",
   "metadata": {},
   "source": [
    "Kolejnym krokiem jest sprawdzenie czy kolumny w zbiorze danych posiadają puste wartości."
   ]
  },
  {
   "cell_type": "code",
   "execution_count": 236,
   "metadata": {},
   "outputs": [
    
   ],
   "source": [
    "titanic.isnull().sum()"
   ]
  },
  {
   "cell_type": "markdown",
   "metadata": {},
   "source": [
    "Zastosowana funkcja zwróciła nam informację o zsumowanej ilości pustych (NULL) danych. Danych brakuje w trzech kolumnach: **Age**, **Cabin** oraz **Embarked**, w których brakuje odpowiednio 173, 685, 2 wartości."
   ]
  },
  {
   "cell_type": "markdown",
   "metadata": {},
   "source": [
    "Kolejnym krokiem jest sprawdzenie typów danych kolumn w zbiorze danych."
   ]
  },
  {
   "cell_type": "code",
   "execution_count": 237,
   "metadata": {},
   "outputs": [
    
   ],
   "source": [
    "titanic.dtypes"
   ]
  },
  {
   "cell_type": "markdown",
   "metadata": {},
   "source": [
    "Z wyniku działania funkcji można zwrócić uwagę na typ tabeli **Age**, która posiadaja typ danych **object**. Natomiast jest to kolumna, która powinny zawierać tylko i wyłącznie liczby, co może świadczyć o tym, że w tej kolumnie występują dane nieprawidłowe."
   ]
  },
  {
   "cell_type": "code",
   "execution_count": 219,
   "metadata": {},
   "outputs": [
    
   ],
   "source": [
    "\n",
    "for c, row in clear.iterrows():\n",
    "    try:\n",
    "        clear.at[c, 'Age'] = float(row['Age'])       \n",
    "    except ValueError:\n",
    "        clear.at[c, 'Age'] = np.NaN\n",
    "\n",
    "clear[['Age']] = clear[['Age']].astype(float).round(2)\n",
    "clear.dtypes\n"
   ]
  },
  {
   "cell_type": "markdown",
   "metadata": {},
   "source": [
    "Kolejnym krokiem jest oczyszczenie kolumny **Age**, która jak było analizowane wcześniej, posiada puste dane. Dane trzeba uzupełnić. Najlepszą metodą będzie uzupełnienie danych średnią wartością kolumny."
   ]
  },
  {
   "cell_type": "code",
   "execution_count": 196,
   "metadata": {},
   "outputs": [
    
   ],
   "source": [
    "clear['Age'] = clear['Age'].fillna(round(clear['Age'].mean()))\n",
    "for index, row in clear.iterrows():\n",
    "    print(row[\"Age\"])\n"
   ]
  },
  {
   "cell_type": "markdown",
   "metadata": {},
   "source": [
    "Kontynuując analizę zbioru można dostrzec również, że tak jak kolumna **Ship**, tak samo kolumna **Cabin** nie posiada żadnych użytecznych danych, które mogłyby później zostać użyte w analizie, dlatego kolumna ta zostanie usunięta."
   ]
  },
  {
   "cell_type": "code",
   "execution_count": 247,
   "metadata": {},
   "outputs": [
    
   ],
   "source": [
    "clear.drop('Cabin', axis = 1, inplace = True) \n",
    "clear.head() \n"
   ]
  },
  {
   "cell_type": "markdown",
   "metadata": {},
   "source": [
    "Kolumna **Embarked** posiada 2 puste rekordy jak można było zobaczyć na początku analizy. Należy je uzupełnić. W tym celu została znaleziona najczęściej występująca wartość, która została wpisana w brakujących rekordach"
   ]
  },
  {
   "cell_type": "code",
   "execution_count": 246,
   "metadata": {},
   "outputs": [
    
   ],
   "source": [
    "clear['Embarked'].value_counts().idxmax() \n"
   ]
  },
  {
   "cell_type": "markdown",
   "metadata": {},
   "source": [
    "Kolumna **Embarked** została uzupełniona wartością 'S'."
   ]
  },
  {
   "cell_type": "code",
   "execution_count": 246,
   "metadata": {},
   "outputs": [
    
   ],
   "source": [
    "fill = clear['Embarked'].value_counts().idxmax() \n",
    "clear['Embarked'] = clear['Embarked'].fillna('fill') \n"
   ]
  },
  {
   "cell_type": "markdown",
   "metadata": {},
   "source": [
    "Ostatnim krokiem po oczyszczeniu zbioru danych jest zapisanie oczyszczonego zbioru jako plik o nazwie **TitanicCleaned** o rozszerzeniu **.tsv**."
   ]
  },
  {
   "cell_type": "code",
   "execution_count": 251,
   "metadata": {},
   "outputs": [],
   "source": [
    "clear.to_csv('TitanicCleaned.tsv', sep = '\\t')"
   ]
  },
  {
   "cell_type": "markdown",
   "metadata": {},
   "source": [
    "W celu weryfikacji czy wszystkie dane zostały uzupełnione, wczytany zostanie wcześniej zapisany plik z oczyszczonym zbiorem danych. Zostanie również wywołana funkcja odczytująca czy znajdują się jakiekolwiek puste dane w całym zbiorze."
   ]
  },
    {
   "cell_type": "code",
   "execution_count": 235,
   "metadata": {},
   "outputs": [
    
   ],
   "source": [
    "titanic2 = pd.read_csv('TitanicCleaned.tsv', sep='\\t', index_col='PassengerId') \n",
    "titanic2.head()"
   ]
  },
    {
   "cell_type": "code",
   "execution_count": 235,
   "metadata": {},
   "outputs": [
    
   ],
   "source": [
    "titanic2.isnull().sum() \n"
   ]
  },
  {
   "cell_type": "markdown",
   "metadata": {},
   "source": [
    "Jak można zauważyć, wszystkie wartości w zbiorze danych zostały uzupełnione."
   ]
  }
 ],
 "metadata": {
  "kernelspec": {
   "display_name": "Python 3",
   "language": "python",
   "name": "python3"
  },
  "language_info": {
   "codemirror_mode": {
    "name": "ipython",
    "version": 3
   },
   "file_extension": ".py",
   "mimetype": "text/x-python",
   "name": "python",
   "nbconvert_exporter": "python",
   "pygments_lexer": "ipython3",
   "version": "3.7.6"
  }
 },
 "nbformat": 4,
 "nbformat_minor": 4
}
